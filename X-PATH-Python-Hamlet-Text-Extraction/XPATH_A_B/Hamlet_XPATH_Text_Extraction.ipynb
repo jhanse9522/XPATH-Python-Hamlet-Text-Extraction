{
 "cells": [
  {
   "cell_type": "code",
   "execution_count": 2,
   "metadata": {},
   "outputs": [],
   "source": [
    "from lxml import etree\n",
    "infile = open('source_data_hamlet-tei.xml', 'rb')\n",
    "xml = infile.read()\n",
    "infile.close()"
   ]
  },
  {
   "cell_type": "code",
   "execution_count": 3,
   "metadata": {},
   "outputs": [
    {
     "name": "stdout",
     "output_type": "stream",
     "text": [
      "len of titles: 7\n"
     ]
    }
   ],
   "source": [
    "tree = etree.fromstring(xml)\n",
    "\n",
    "ns = {'tei': 'http://www.tei-c.org/ns/1.0'}\n",
    "\n",
    "titles = tree.xpath('//tei:title/text()', namespaces = ns)\n",
    "\n",
    "\n",
    "\n",
    "print(\"len of titles:\", len(titles))\n"
   ]
  },
  {
   "cell_type": "code",
   "execution_count": 4,
   "metadata": {},
   "outputs": [
    {
     "name": "stdout",
     "output_type": "stream",
     "text": [
      "Here is the text of results2:\n",
      "['The Tragedie of Hamlet, Prince of Denmark from Mr. William\\n                    Shakespeares comedies, histories, & tragedies. Published according to the\\n                    true originall copies.', 'Mr. VVilliam Shakespeares comedies, histories, &\\n                    tragedies', 'Bodleian First Folio, Arch. G c.7']\n",
      "len of results2: 3\n"
     ]
    }
   ],
   "source": [
    "# statement that finds the text of all the title elements inside the titleStmt node (3 results)\n",
    "\n",
    "results2 = tree.xpath('//tei:titleStmt/tei:title/text()', namespaces = ns)\n",
    "print(\"Here is the text of results2:\")\n",
    "print(results2)\n",
    "print(\"len of results2:\", len(results2))\n"
   ]
  },
  {
   "cell_type": "code",
   "execution_count": 5,
   "metadata": {},
   "outputs": [
    {
     "name": "stdout",
     "output_type": "stream",
     "text": [
      "len of results3: 26\n",
      "Counter({'scene': 20, 'act': 5, 'play': 1})\n"
     ]
    }
   ],
   "source": [
    "# xpath query that selects all the type attributes from the div elements (26 results)\n",
    "# Create Counter object with the results of your xpath query as a parameter\n",
    "# Count values appearing the text\n",
    "\n",
    "\n",
    "results3 = tree.xpath('//tei:div/@type', namespaces = ns)\n",
    "\n",
    "print(\"len of results3:\", len(results3))\n",
    "\n",
    "from collections import Counter\n",
    "\n",
    "print(Counter(results3))\n",
    "\n"
   ]
  },
  {
   "cell_type": "code",
   "execution_count": 6,
   "metadata": {},
   "outputs": [
    {
     "name": "stdout",
     "output_type": "stream",
     "text": [
      "len of allscenedivs: 20\n",
      "[<Element {http://www.tei-c.org/ns/1.0}div at 0x11285a0f0>, <Element {http://www.tei-c.org/ns/1.0}div at 0x11285a140>, <Element {http://www.tei-c.org/ns/1.0}div at 0x11285a190>, <Element {http://www.tei-c.org/ns/1.0}div at 0x11285a1e0>, <Element {http://www.tei-c.org/ns/1.0}div at 0x11285a230>, <Element {http://www.tei-c.org/ns/1.0}div at 0x11285a2d0>, <Element {http://www.tei-c.org/ns/1.0}div at 0x11285a320>, <Element {http://www.tei-c.org/ns/1.0}div at 0x11285a3c0>, <Element {http://www.tei-c.org/ns/1.0}div at 0x11285a410>, <Element {http://www.tei-c.org/ns/1.0}div at 0x11285a460>, <Element {http://www.tei-c.org/ns/1.0}div at 0x11285a4b0>, <Element {http://www.tei-c.org/ns/1.0}div at 0x11285a550>, <Element {http://www.tei-c.org/ns/1.0}div at 0x11285a5a0>, <Element {http://www.tei-c.org/ns/1.0}div at 0x11285a5f0>, <Element {http://www.tei-c.org/ns/1.0}div at 0x11285a640>, <Element {http://www.tei-c.org/ns/1.0}div at 0x11285a690>, <Element {http://www.tei-c.org/ns/1.0}div at 0x11285a6e0>, <Element {http://www.tei-c.org/ns/1.0}div at 0x11285a730>, <Element {http://www.tei-c.org/ns/1.0}div at 0x11285a7d0>, <Element {http://www.tei-c.org/ns/1.0}div at 0x11285a820>]\n"
     ]
    }
   ],
   "source": [
    "# xpath query that finds all the div elements that are for scenes\n",
    "\n",
    "\n",
    "\n",
    "allscenedivs = tree.xpath('//tei:div[@type=\"scene\"]', namespaces = ns)\n",
    "print(\"len of allscenedivs:\", len(allscenedivs))\n",
    "print(allscenedivs)\n"
   ]
  },
  {
   "cell_type": "code",
   "execution_count": 7,
   "metadata": {},
   "outputs": [
    {
     "name": "stdout",
     "output_type": "stream",
     "text": [
      "scene : 1\n",
      "scene : 2\n",
      "scene : 3\n",
      "scene : 4\n",
      "scene : 5\n",
      "scene : 1\n",
      "scene : 2\n",
      "scene : 1\n",
      "scene : 2\n",
      "scene : 3\n",
      "scene : 4\n",
      "scene : 1\n",
      "scene : 2\n",
      "scene : 3\n",
      "scene : 4\n",
      "scene : 5\n",
      "scene : 6\n",
      "scene : 7\n",
      "scene : 1\n",
      "scene : 2\n"
     ]
    }
   ],
   "source": [
    "# Iterated over elements to build queries to extract select attributes:\n",
    "#   - added an xpath query that extracts the type attribute\n",
    "#   - added an xpath query that extracts the n attribute\n",
    "#   - results inside a list -> extract the [0] element out of each\n",
    "#   - Created a print statement in the following format: \"Act #: Scene: #\" where each # is replaced by the appropriate value\n",
    "\n",
    "for div in allscenedivs:\n",
    "\n",
    "    type_value = div.xpath('@type', namespaces=ns)\n",
    "    n = div.xpath('@n', namespaces=ns)\n",
    "    print(type_value[0], \":\", n[0])\n"
   ]
  },
  {
   "cell_type": "code",
   "execution_count": 8,
   "metadata": {},
   "outputs": [
    {
     "name": "stdout",
     "output_type": "stream",
     "text": [
      "act : 1 , scene : 1\n",
      "act : 1 , scene : 2\n",
      "act : 1 , scene : 3\n",
      "act : 1 , scene : 4\n",
      "act : 1 , scene : 5\n",
      "act : 2 , scene : 1\n",
      "act : 2 , scene : 2\n",
      "act : 3 , scene : 1\n",
      "act : 3 , scene : 2\n",
      "act : 3 , scene : 3\n",
      "act : 3 , scene : 4\n",
      "act : 4 , scene : 1\n",
      "act : 4 , scene : 2\n",
      "act : 4 , scene : 3\n",
      "act : 4 , scene : 4\n",
      "act : 4 , scene : 5\n",
      "act : 4 , scene : 6\n",
      "act : 4 , scene : 7\n",
      "act : 5 , scene : 1\n",
      "act : 5 , scene : 2\n"
     ]
    }
   ],
   "source": [
    "# Target the div elements that are just for the scenes\n",
    "# Note: through exploration, it is found that the scene divs live inside of the act divs.\n",
    "\n",
    "# Goal: extract scene info and now add the act number in that same line.\n",
    "\n",
    "# Inside loop:\n",
    "#   - added an xpath query that finds the parent element's type attribute value\n",
    "#   - added an xpath query that finds the parent element's n attribute value\n",
    "#   - added select targets into existing print statement\n",
    "\n",
    "for div in allscenedivs:\n",
    "\n",
    "    type_value = div.xpath('@type', namespaces=ns)\n",
    "    parent_type = div.xpath('../@type', namespaces=ns)\n",
    "    n = div.xpath('@n', namespaces=ns)\n",
    "    parent_n = div.xpath('../@n', namespaces=ns)\n",
    "    print(parent_type[0], \":\", parent_n[0],\",\", type_value[0], \":\", n[0])\n"
   ]
  },
  {
   "cell_type": "code",
   "execution_count": 9,
   "metadata": {},
   "outputs": [],
   "source": [
    "# Look at the structure of the person elements that appear inside the listPerson\n",
    "# element just a little way down from the top of the file.\n",
    "# Each contains several personal names (in the persName element) with a type attribute,\n",
    "# several other kinds of personal information, and the person's social status\n",
    "\n",
    "# Write a query that selects (but does not extract anything from) the person elements.\n",
    "\n",
    "pers_elements = tree.xpath('//tei:person', namespaces = ns)\n"
   ]
  },
  {
   "cell_type": "code",
   "execution_count": 10,
   "metadata": {},
   "outputs": [],
   "source": [
    "# Loop over element results and pull out values accounting for missing values with function\n",
    "\n",
    "def checkFor1Result(xpathresult, missing_value):\n",
    "    if len(xpathresult) > 1:\n",
    "        howmany = len(xpathresult)\n",
    "        raise ValueError(\"Your list had \" + str(howmany) + \" items instead of 1. Shutting down the program..\" + \"but first here's your failed result\" + str(xpathresult))\n",
    "    elif len(xpathresult) == 1:\n",
    "        result = xpathresult[0] # grab the element when there is exactly one to grab\n",
    "    else:\n",
    "        result = missing_value\n",
    "    return result"
   ]
  },
  {
   "cell_type": "code",
   "execution_count": 11,
   "metadata": {},
   "outputs": [
    {
     "name": "stdout",
     "output_type": "stream",
     "text": [
      "['F-ham-pla.1', 'worker', 'Missing occupation']\n",
      "['F-ham-all', 'Missing status', 'Missing occupation']\n",
      "['F-ham-amb', 'noble', 'Missing occupation']\n",
      "['F-ham-plp', 'worker', 'Missing occupation']\n",
      "['F-ham-plq', 'worker', 'Missing occupation']\n",
      "['F-ham-ber', 'worker', 'military']\n",
      "['F-ham-cap', 'worker', 'military']\n",
      "['F-ham-clo.1', 'worker', 'Missing occupation']\n",
      "['F-ham-for', 'noble', 'military']\n",
      "['F-ham-fra', 'worker', 'military']\n",
      "['F-ham-gen', 'noble', 'Missing occupation']\n",
      "['F-ham-gmn', 'noble', 'Missing occupation']\n",
      "['F-ham-gho', 'noble', 'military']\n",
      "['F-ham-gui', 'noble', 'Missing occupation']\n",
      "['F-ham-ham', 'noble', 'Missing occupation']\n",
      "['F-ham-hor', 'noble', 'Missing occupation']\n",
      "['F-ham-cla', 'noble', 'Missing occupation']\n",
      "['F-ham-lae', 'Missing status', 'Missing occupation']\n",
      "['F-ham-luc', 'noble', 'Missing occupation']\n",
      "['F-ham-mar', 'worker', 'military']\n",
      "['F-ham-mes', 'worker', 'Missing occupation']\n",
      "['F-ham-oph', 'noble', 'Missing occupation']\n",
      "['F-ham-osr', 'noble', 'Missing occupation']\n",
      "['F-ham-clo.2', 'worker', 'Missing occupation']\n",
      "['F-ham-pol', 'noble', 'Missing occupation']\n",
      "['F-ham-plk', 'worker', 'Missing occupation']\n",
      "['F-ham-pri', 'worker', 'Missing occupation']\n",
      "['F-ham-ger', 'noble', 'Missing occupation']\n",
      "['F-ham-ros', 'noble', 'Missing occupation']\n",
      "['F-ham-rey', 'worker', 'Missing occupation']\n",
      "['F-ham-sai', 'worker', 'Missing occupation']\n",
      "['F-ham-ser', 'worker', 'Missing occupation']\n",
      "['F-ham-vol', 'noble', 'Missing occupation']\n"
     ]
    }
   ],
   "source": [
    "#  Loop over your person element results, and for each element:\n",
    "#   - write an xpath query that finds the id of the person, e.g. \"#F-ham-mar\"\n",
    "#   - write an xpath query that finds the socecStatus element text\n",
    "#   - write an xpath query that finds the occupation element text\n",
    "#   - run the results of these three queries through the checkFor1Result function (and add an appropriate missing value)\n",
    "#   - print out the results in one line, in this order:  id, status, occupation\n",
    "\n",
    "for person in pers_elements:\n",
    "    results = []\n",
    "    id = person.xpath(\"@xml:id\", namespaces = ns)\n",
    "    soc = person.xpath(\"tei:socecStatus/text()\", namespaces = ns)\n",
    "    occ = person.xpath(\"tei:occupation/text()\", namespaces = ns)\n",
    "    results.append(checkFor1Result(id, \"Missing id\"))\n",
    "    results.append(checkFor1Result(soc, \"Missing status\"))\n",
    "    results.append(checkFor1Result(occ, \"Missing occupation\"))\n",
    "    print(results)\n"
   ]
  },
  {
   "cell_type": "code",
   "execution_count": 12,
   "metadata": {},
   "outputs": [
    {
     "name": "stdout",
     "output_type": "stream",
     "text": [
      "[['F-ham-pla.1', 'worker', 'Missing occupation'], ['F-ham-all', 'Missing status', 'Missing occupation'], ['F-ham-amb', 'noble', 'Missing occupation'], ['F-ham-plp', 'worker', 'Missing occupation'], ['F-ham-plq', 'worker', 'Missing occupation'], ['F-ham-ber', 'worker', 'military'], ['F-ham-cap', 'worker', 'military'], ['F-ham-clo.1', 'worker', 'Missing occupation'], ['F-ham-for', 'noble', 'military'], ['F-ham-fra', 'worker', 'military'], ['F-ham-gen', 'noble', 'Missing occupation'], ['F-ham-gmn', 'noble', 'Missing occupation'], ['F-ham-gho', 'noble', 'military'], ['F-ham-gui', 'noble', 'Missing occupation'], ['F-ham-ham', 'noble', 'Missing occupation'], ['F-ham-hor', 'noble', 'Missing occupation'], ['F-ham-cla', 'noble', 'Missing occupation'], ['F-ham-lae', 'Missing status', 'Missing occupation'], ['F-ham-luc', 'noble', 'Missing occupation'], ['F-ham-mar', 'worker', 'military'], ['F-ham-mes', 'worker', 'Missing occupation'], ['F-ham-oph', 'noble', 'Missing occupation'], ['F-ham-osr', 'noble', 'Missing occupation'], ['F-ham-clo.2', 'worker', 'Missing occupation'], ['F-ham-pol', 'noble', 'Missing occupation'], ['F-ham-plk', 'worker', 'Missing occupation'], ['F-ham-pri', 'worker', 'Missing occupation'], ['F-ham-ger', 'noble', 'Missing occupation'], ['F-ham-ros', 'noble', 'Missing occupation'], ['F-ham-rey', 'worker', 'Missing occupation'], ['F-ham-sai', 'worker', 'Missing occupation'], ['F-ham-ser', 'worker', 'Missing occupation'], ['F-ham-vol', 'noble', 'Missing occupation']]\n",
      "33\n"
     ]
    }
   ],
   "source": [
    "# A copy of the for loop modified:\n",
    "#   - collect these new results into a list within the for loop\n",
    "#   - use an accumulator to collect all those lists\n",
    "\n",
    "all_results = []\n",
    "\n",
    "for person in pers_elements:\n",
    "    results = []\n",
    "    id = person.xpath(\"@xml:id\", namespaces = ns)\n",
    "    soc = person.xpath(\"tei:socecStatus/text()\", namespaces = ns)\n",
    "    occ = person.xpath(\"tei:occupation/text()\", namespaces = ns)\n",
    "    results.append(checkFor1Result(id, \"Missing id\"))\n",
    "    results.append(checkFor1Result(soc, \"Missing status\"))\n",
    "    results.append(checkFor1Result(occ, \"Missing occupation\"))\n",
    "    #print(results)\n",
    "    all_results.append(results)\n",
    "print(all_results)\n",
    "print(len(all_results))"
   ]
  },
  {
   "cell_type": "code",
   "execution_count": null,
   "metadata": {},
   "outputs": [],
   "source": []
  }
 ],
 "metadata": {
  "kernelspec": {
   "display_name": "Python 3",
   "language": "python",
   "name": "python3"
  },
  "language_info": {
   "codemirror_mode": {
    "name": "ipython",
    "version": 3
   },
   "file_extension": ".py",
   "mimetype": "text/x-python",
   "name": "python",
   "nbconvert_exporter": "python",
   "pygments_lexer": "ipython3",
   "version": "3.7.4"
  }
 },
 "nbformat": 4,
 "nbformat_minor": 2
}
